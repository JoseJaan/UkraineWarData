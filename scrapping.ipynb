{
 "cells": [
  {
   "cell_type": "code",
   "execution_count": null,
   "metadata": {},
   "outputs": [],
   "source": [
    "!pip install requests beautifulsoup4 pandas\n"
   ]
  },
  {
   "cell_type": "code",
   "execution_count": null,
   "metadata": {},
   "outputs": [],
   "source": [
    "import requests\n",
    "from bs4 import BeautifulSoup\n",
    "import pandas as pd"
   ]
  },
  {
   "cell_type": "code",
   "execution_count": null,
   "metadata": {},
   "outputs": [],
   "source": [
    "#ukrainian data url: https://www.oryxspioenkop.com/2022/02/attack-on-europe-documenting-ukrainian.html\n",
    "#russian data url: https://www.oryxspioenkop.com/2022/02/attack-on-europe-documenting-equipment.html\n",
    "url = \"https://www.oryxspioenkop.com/2022/02/attack-on-europe-documenting-ukrainian.html\"\n",
    "csv_filename = \"data/ukrainian_losses.csv\" #change the name based on the country"
   ]
  },
  {
   "cell_type": "code",
   "execution_count": null,
   "metadata": {},
   "outputs": [],
   "source": [
    "response = requests.get(url)\n",
    "response.raise_for_status()"
   ]
  },
  {
   "cell_type": "code",
   "execution_count": null,
   "metadata": {},
   "outputs": [],
   "source": [
    "soup = BeautifulSoup(response.text, 'html.parser')"
   ]
  },
  {
   "cell_type": "code",
   "execution_count": null,
   "metadata": {},
   "outputs": [],
   "source": [
    "data = []\n",
    "current_category = None\n",
    "\n",
    "for tag in soup.find_all([\"h3\", \"li\"]):\n",
    "    text = tag.text.strip()\n",
    "    if \"Attack On Europe\" in text:\n",
    "        break  # Stops scraping when encountering this text\n",
    "    \n",
    "    if tag.name == \"h3\": \n",
    "        current_category = text\n",
    "    elif tag.name == \"li\" and current_category:\n",
    "        if text:\n",
    "            data.append([current_category, text])"
   ]
  },
  {
   "cell_type": "code",
   "execution_count": null,
   "metadata": {},
   "outputs": [],
   "source": [
    "df = pd.DataFrame(data, columns=[\"Category\", \"Description\"])"
   ]
  },
  {
   "cell_type": "code",
   "execution_count": null,
   "metadata": {},
   "outputs": [],
   "source": [
    "df.to_csv(csv_filename, index=False, encoding=\"utf-8\")\n",
    "print(f\"Scraping completed! Data saved in '{csv_filename}'\")"
   ]
  }
 ],
 "metadata": {
  "kernelspec": {
   "display_name": "base",
   "language": "python",
   "name": "python3"
  },
  "language_info": {
   "codemirror_mode": {
    "name": "ipython",
    "version": 3
   },
   "file_extension": ".py",
   "mimetype": "text/x-python",
   "name": "python",
   "nbconvert_exporter": "python",
   "pygments_lexer": "ipython3",
   "version": "3.12.4"
  }
 },
 "nbformat": 4,
 "nbformat_minor": 2
}
